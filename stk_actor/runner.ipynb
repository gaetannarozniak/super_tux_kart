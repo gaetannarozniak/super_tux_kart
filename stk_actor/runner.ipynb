{
 "cells": [
  {
   "cell_type": "code",
   "execution_count": 4,
   "metadata": {},
   "outputs": [],
   "source": [
    "from pathlib import Path\n",
    "from pystk2_gymnasium import AgentSpec\n",
    "from functools import partial\n",
    "import torch\n",
    "import inspect\n",
    "from bbrl.agents.gymnasium import ParallelGymAgent, make_env\n",
    "from bbrl.agents import Agents, TemporalAgent\n",
    "from bbrl.workspace import Workspace\n",
    "from bbrl.agents import Agent\n",
    "import gymnasium as gym\n",
    "\n",
    "\n",
    "import sys\n",
    "import os\n",
    "\n",
    "\n",
    "# Note the use of relative imports\n",
    "from actors import Actor\n",
    "from pystk_actor import env_name, get_wrappers, player_name"
   ]
  },
  {
   "cell_type": "code",
   "execution_count": 5,
   "metadata": {},
   "outputs": [],
   "source": [
    "class SamplingActor(Agent):\n",
    "    \"\"\"Samples random actions\"\"\"\n",
    "\n",
    "    def __init__(self, action_space: gym.Space):\n",
    "        super().__init__()\n",
    "        self.action_space = action_space\n",
    "\n",
    "    def forward(self, t: int):\n",
    "        self.set((\"action\", t), torch.tensor([[4, 1, 0, 1, 1, 0, 6]]))#torch.LongTensor([self.action_space.sample()]))"
   ]
  },
  {
   "cell_type": "code",
   "execution_count": 6,
   "metadata": {},
   "outputs": [
    {
     "ename": "NameNotFound",
     "evalue": "Environment `flttened_multidiscrete` doesn't exist in namespace supertuxkart. Did you mean: `flattened_multidiscrete`?",
     "output_type": "error",
     "traceback": [
      "\u001b[0;31m---------------------------------------------------------------------------\u001b[0m",
      "\u001b[0;31mNameNotFound\u001b[0m                              Traceback (most recent call last)",
      "Cell \u001b[0;32mIn[6], line 14\u001b[0m\n\u001b[1;32m      2\u001b[0m \u001b[39m# env_name = \"supertuxkart/full-v0\"\u001b[39;00m\n\u001b[1;32m      3\u001b[0m \n\u001b[1;32m      4\u001b[0m \u001b[39m# Setup the environment\u001b[39;00m\n\u001b[1;32m      5\u001b[0m make_stkenv \u001b[39m=\u001b[39m partial(\n\u001b[1;32m      6\u001b[0m     make_env,\n\u001b[1;32m      7\u001b[0m     env_name,\n\u001b[0;32m   (...)\u001b[0m\n\u001b[1;32m     11\u001b[0m     agent\u001b[39m=\u001b[39mAgentSpec(use_ai\u001b[39m=\u001b[39m\u001b[39mFalse\u001b[39;00m, name\u001b[39m=\u001b[39mplayer_name), \u001b[39m# use_ai=False for using the \"action\" line of the workspace\u001b[39;00m\n\u001b[1;32m     12\u001b[0m )\n\u001b[0;32m---> 14\u001b[0m env_agent \u001b[39m=\u001b[39m ParallelGymAgent(make_stkenv, \u001b[39m1\u001b[39;49m)\n\u001b[1;32m     15\u001b[0m env \u001b[39m=\u001b[39m env_agent\u001b[39m.\u001b[39menvs[\u001b[39m0\u001b[39m]\n\u001b[1;32m     17\u001b[0m \u001b[39m# (2) Learn\u001b[39;00m\n",
      "File \u001b[0;32m~/opt/anaconda3/envs/dac_env/lib/python3.9/site-packages/bbrl/agents/gymnasium.py:309\u001b[0m, in \u001b[0;36mParallelGymAgent.__init__\u001b[0;34m(self, make_env_fn, num_envs, make_env_args, *args, **kwargs)\u001b[0m\n\u001b[1;32m    307\u001b[0m \u001b[39mself\u001b[39m\u001b[39m.\u001b[39mmake_env_fn: Callable[[], Env] \u001b[39m=\u001b[39m make_env_fn\n\u001b[1;32m    308\u001b[0m args: Dict[\u001b[39mstr\u001b[39m, Any] \u001b[39m=\u001b[39m make_env_args \u001b[39mif\u001b[39;00m make_env_args \u001b[39mis\u001b[39;00m \u001b[39mnot\u001b[39;00m \u001b[39mNone\u001b[39;00m \u001b[39melse\u001b[39;00m {}\n\u001b[0;32m--> 309\u001b[0m \u001b[39mself\u001b[39;49m\u001b[39m.\u001b[39;49m_initialize_envs(num_envs\u001b[39m=\u001b[39;49mnum_envs, make_env_args\u001b[39m=\u001b[39;49margs)\n",
      "File \u001b[0;32m~/opt/anaconda3/envs/dac_env/lib/python3.9/site-packages/bbrl/agents/gymnasium.py:312\u001b[0m, in \u001b[0;36mParallelGymAgent._initialize_envs\u001b[0;34m(self, num_envs, make_env_args)\u001b[0m\n\u001b[1;32m    311\u001b[0m \u001b[39mdef\u001b[39;00m \u001b[39m_initialize_envs\u001b[39m(\u001b[39mself\u001b[39m, num_envs: \u001b[39mint\u001b[39m, make_env_args: Dict[\u001b[39mstr\u001b[39m, Any]):\n\u001b[0;32m--> 312\u001b[0m     \u001b[39mself\u001b[39m\u001b[39m.\u001b[39menvs \u001b[39m=\u001b[39m [\u001b[39mself\u001b[39m\u001b[39m.\u001b[39mmake_env_fn(\u001b[39m*\u001b[39m\u001b[39m*\u001b[39mmake_env_args) \u001b[39mfor\u001b[39;00m _ \u001b[39min\u001b[39;00m \u001b[39mrange\u001b[39m(num_envs)]\n\u001b[1;32m    313\u001b[0m     \u001b[39mself\u001b[39m\u001b[39m.\u001b[39m_timestep \u001b[39m=\u001b[39m torch\u001b[39m.\u001b[39mzeros(\u001b[39mlen\u001b[39m(\u001b[39mself\u001b[39m\u001b[39m.\u001b[39menvs), dtype\u001b[39m=\u001b[39mtorch\u001b[39m.\u001b[39mlong)\n\u001b[1;32m    314\u001b[0m     \u001b[39mself\u001b[39m\u001b[39m.\u001b[39mobservation_space \u001b[39m=\u001b[39m \u001b[39mself\u001b[39m\u001b[39m.\u001b[39menvs[\u001b[39m0\u001b[39m]\u001b[39m.\u001b[39mobservation_space\n",
      "File \u001b[0;32m~/opt/anaconda3/envs/dac_env/lib/python3.9/site-packages/bbrl/agents/gymnasium.py:312\u001b[0m, in \u001b[0;36m<listcomp>\u001b[0;34m(.0)\u001b[0m\n\u001b[1;32m    311\u001b[0m \u001b[39mdef\u001b[39;00m \u001b[39m_initialize_envs\u001b[39m(\u001b[39mself\u001b[39m, num_envs: \u001b[39mint\u001b[39m, make_env_args: Dict[\u001b[39mstr\u001b[39m, Any]):\n\u001b[0;32m--> 312\u001b[0m     \u001b[39mself\u001b[39m\u001b[39m.\u001b[39menvs \u001b[39m=\u001b[39m [\u001b[39mself\u001b[39;49m\u001b[39m.\u001b[39;49mmake_env_fn(\u001b[39m*\u001b[39;49m\u001b[39m*\u001b[39;49mmake_env_args) \u001b[39mfor\u001b[39;00m _ \u001b[39min\u001b[39;00m \u001b[39mrange\u001b[39m(num_envs)]\n\u001b[1;32m    313\u001b[0m     \u001b[39mself\u001b[39m\u001b[39m.\u001b[39m_timestep \u001b[39m=\u001b[39m torch\u001b[39m.\u001b[39mzeros(\u001b[39mlen\u001b[39m(\u001b[39mself\u001b[39m\u001b[39m.\u001b[39menvs), dtype\u001b[39m=\u001b[39mtorch\u001b[39m.\u001b[39mlong)\n\u001b[1;32m    314\u001b[0m     \u001b[39mself\u001b[39m\u001b[39m.\u001b[39mobservation_space \u001b[39m=\u001b[39m \u001b[39mself\u001b[39m\u001b[39m.\u001b[39menvs[\u001b[39m0\u001b[39m]\u001b[39m.\u001b[39mobservation_space\n",
      "File \u001b[0;32m~/opt/anaconda3/envs/dac_env/lib/python3.9/site-packages/bbrl/agents/gymnasium.py:40\u001b[0m, in \u001b[0;36mmake_env\u001b[0;34m(env_name, autoreset, wrappers, **kwargs)\u001b[0m\n\u001b[1;32m     28\u001b[0m \u001b[39mdef\u001b[39;00m \u001b[39mmake_env\u001b[39m(env_name, autoreset\u001b[39m=\u001b[39m\u001b[39mFalse\u001b[39;00m, wrappers: List \u001b[39m=\u001b[39m [], \u001b[39m*\u001b[39m\u001b[39m*\u001b[39mkwargs):\n\u001b[1;32m     29\u001b[0m \u001b[39m    \u001b[39m\u001b[39m\"\"\"Utility function to create an environment\u001b[39;00m\n\u001b[1;32m     30\u001b[0m \n\u001b[1;32m     31\u001b[0m \u001b[39m    Other parameters are forwarded to the gymnasium `make`\u001b[39;00m\n\u001b[0;32m   (...)\u001b[0m\n\u001b[1;32m     38\u001b[0m \u001b[39m        defaults to False\u001b[39;00m\n\u001b[1;32m     39\u001b[0m \u001b[39m    \"\"\"\u001b[39;00m\n\u001b[0;32m---> 40\u001b[0m     env \u001b[39m=\u001b[39m make(env_name, \u001b[39m*\u001b[39;49m\u001b[39m*\u001b[39;49mkwargs)\n\u001b[1;32m     41\u001b[0m     \u001b[39mfor\u001b[39;00m wrapper \u001b[39min\u001b[39;00m wrappers:\n\u001b[1;32m     42\u001b[0m         env \u001b[39m=\u001b[39m wrapper(env)\n",
      "File \u001b[0;32m~/opt/anaconda3/envs/dac_env/lib/python3.9/site-packages/gymnasium/envs/registration.py:741\u001b[0m, in \u001b[0;36mmake\u001b[0;34m(id, max_episode_steps, autoreset, apply_api_compatibility, disable_env_checker, **kwargs)\u001b[0m\n\u001b[1;32m    738\u001b[0m     \u001b[39massert\u001b[39;00m \u001b[39misinstance\u001b[39m(\u001b[39mid\u001b[39m, \u001b[39mstr\u001b[39m)\n\u001b[1;32m    740\u001b[0m     \u001b[39m# The environment name can include an unloaded module in \"module:env_name\" style\u001b[39;00m\n\u001b[0;32m--> 741\u001b[0m     env_spec \u001b[39m=\u001b[39m _find_spec(\u001b[39mid\u001b[39;49m)\n\u001b[1;32m    743\u001b[0m \u001b[39massert\u001b[39;00m \u001b[39misinstance\u001b[39m(env_spec, EnvSpec)\n\u001b[1;32m    745\u001b[0m \u001b[39m# Update the env spec kwargs with the `make` kwargs\u001b[39;00m\n",
      "File \u001b[0;32m~/opt/anaconda3/envs/dac_env/lib/python3.9/site-packages/gymnasium/envs/registration.py:527\u001b[0m, in \u001b[0;36m_find_spec\u001b[0;34m(env_id)\u001b[0m\n\u001b[1;32m    521\u001b[0m     logger\u001b[39m.\u001b[39mwarn(\n\u001b[1;32m    522\u001b[0m         \u001b[39mf\u001b[39m\u001b[39m\"\u001b[39m\u001b[39mUsing the latest versioned environment `\u001b[39m\u001b[39m{\u001b[39;00mnew_env_id\u001b[39m}\u001b[39;00m\u001b[39m` \u001b[39m\u001b[39m\"\u001b[39m\n\u001b[1;32m    523\u001b[0m         \u001b[39mf\u001b[39m\u001b[39m\"\u001b[39m\u001b[39minstead of the unversioned environment `\u001b[39m\u001b[39m{\u001b[39;00menv_name\u001b[39m}\u001b[39;00m\u001b[39m`.\u001b[39m\u001b[39m\"\u001b[39m\n\u001b[1;32m    524\u001b[0m     )\n\u001b[1;32m    526\u001b[0m \u001b[39mif\u001b[39;00m env_spec \u001b[39mis\u001b[39;00m \u001b[39mNone\u001b[39;00m:\n\u001b[0;32m--> 527\u001b[0m     _check_version_exists(ns, name, version)\n\u001b[1;32m    528\u001b[0m     \u001b[39mraise\u001b[39;00m error\u001b[39m.\u001b[39mError(\n\u001b[1;32m    529\u001b[0m         \u001b[39mf\u001b[39m\u001b[39m\"\u001b[39m\u001b[39mNo registered env with id: \u001b[39m\u001b[39m{\u001b[39;00menv_name\u001b[39m}\u001b[39;00m\u001b[39m. Did you register it, or import the package that registers it? Use `gymnasium.pprint_registry()` to see all of the registered environments.\u001b[39m\u001b[39m\"\u001b[39m\n\u001b[1;32m    530\u001b[0m     )\n\u001b[1;32m    532\u001b[0m \u001b[39mreturn\u001b[39;00m env_spec\n",
      "File \u001b[0;32m~/opt/anaconda3/envs/dac_env/lib/python3.9/site-packages/gymnasium/envs/registration.py:393\u001b[0m, in \u001b[0;36m_check_version_exists\u001b[0;34m(ns, name, version)\u001b[0m\n\u001b[1;32m    390\u001b[0m \u001b[39mif\u001b[39;00m get_env_id(ns, name, version) \u001b[39min\u001b[39;00m registry:\n\u001b[1;32m    391\u001b[0m     \u001b[39mreturn\u001b[39;00m\n\u001b[0;32m--> 393\u001b[0m _check_name_exists(ns, name)\n\u001b[1;32m    394\u001b[0m \u001b[39mif\u001b[39;00m version \u001b[39mis\u001b[39;00m \u001b[39mNone\u001b[39;00m:\n\u001b[1;32m    395\u001b[0m     \u001b[39mreturn\u001b[39;00m\n",
      "File \u001b[0;32m~/opt/anaconda3/envs/dac_env/lib/python3.9/site-packages/gymnasium/envs/registration.py:370\u001b[0m, in \u001b[0;36m_check_name_exists\u001b[0;34m(ns, name)\u001b[0m\n\u001b[1;32m    367\u001b[0m namespace_msg \u001b[39m=\u001b[39m \u001b[39mf\u001b[39m\u001b[39m\"\u001b[39m\u001b[39m in namespace \u001b[39m\u001b[39m{\u001b[39;00mns\u001b[39m}\u001b[39;00m\u001b[39m\"\u001b[39m \u001b[39mif\u001b[39;00m ns \u001b[39melse\u001b[39;00m \u001b[39m\"\u001b[39m\u001b[39m\"\u001b[39m\n\u001b[1;32m    368\u001b[0m suggestion_msg \u001b[39m=\u001b[39m \u001b[39mf\u001b[39m\u001b[39m\"\u001b[39m\u001b[39m Did you mean: `\u001b[39m\u001b[39m{\u001b[39;00msuggestion[\u001b[39m0\u001b[39m]\u001b[39m}\u001b[39;00m\u001b[39m`?\u001b[39m\u001b[39m\"\u001b[39m \u001b[39mif\u001b[39;00m suggestion \u001b[39melse\u001b[39;00m \u001b[39m\"\u001b[39m\u001b[39m\"\u001b[39m\n\u001b[0;32m--> 370\u001b[0m \u001b[39mraise\u001b[39;00m error\u001b[39m.\u001b[39mNameNotFound(\n\u001b[1;32m    371\u001b[0m     \u001b[39mf\u001b[39m\u001b[39m\"\u001b[39m\u001b[39mEnvironment `\u001b[39m\u001b[39m{\u001b[39;00mname\u001b[39m}\u001b[39;00m\u001b[39m` doesn\u001b[39m\u001b[39m'\u001b[39m\u001b[39mt exist\u001b[39m\u001b[39m{\u001b[39;00mnamespace_msg\u001b[39m}\u001b[39;00m\u001b[39m.\u001b[39m\u001b[39m{\u001b[39;00msuggestion_msg\u001b[39m}\u001b[39;00m\u001b[39m\"\u001b[39m\n\u001b[1;32m    372\u001b[0m )\n",
      "\u001b[0;31mNameNotFound\u001b[0m: Environment `flttened_multidiscrete` doesn't exist in namespace supertuxkart. Did you mean: `flattened_multidiscrete`?"
     ]
    }
   ],
   "source": [
    "env_name = \"supertuxkart/flttened_multidiscrete-v0\"\n",
    "# env_name = \"supertuxkart/full-v0\"\n",
    "\n",
    "# Setup the environment\n",
    "make_stkenv = partial(\n",
    "    make_env,\n",
    "    env_name,\n",
    "    wrappers=get_wrappers(),\n",
    "    render_mode=\"human\", # human for video, else None \n",
    "    autoreset=True,\n",
    "    agent=AgentSpec(use_ai=False, name=player_name), # use_ai=False for using the \"action\" line of the workspace\n",
    ")\n",
    "\n",
    "env_agent = ParallelGymAgent(make_stkenv, 1)\n",
    "env = env_agent.envs[0]\n",
    "\n",
    "# (2) Learn\n",
    "\n",
    "actor = SamplingActor(env.action_space)\n",
    "temporal_agent = TemporalAgent(Agents(env_agent, actor))\n",
    "\n",
    "workspace = Workspace()\n",
    "temporal_agent(workspace, t=0, n_steps=200)\n",
    "\n",
    "# (3) Save the actor state\n",
    "mod_path = Path(inspect.getfile(get_wrappers)).parent\n",
    "torch.save(actor.state_dict(), mod_path / \"pystk_actor.pth\")\n"
   ]
  },
  {
   "cell_type": "code",
   "execution_count": 39,
   "metadata": {},
   "outputs": [
    {
     "data": {
      "text/plain": [
       "tensor([[[4, 1, 0,  ..., 1, 0, 6]],\n",
       "\n",
       "        [[3, 1, 0,  ..., 1, 1, 3]],\n",
       "\n",
       "        [[1, 0, 1,  ..., 0, 1, 5]],\n",
       "\n",
       "        ...,\n",
       "\n",
       "        [[1, 1, 1,  ..., 0, 0, 1]],\n",
       "\n",
       "        [[1, 0, 0,  ..., 0, 1, 1]],\n",
       "\n",
       "        [[1, 1, 1,  ..., 1, 0, 4]]])"
      ]
     },
     "execution_count": 39,
     "metadata": {},
     "output_type": "execute_result"
    }
   ],
   "source": [
    "# for key in workspace.keys():\n",
    "#     print(key, workspace([key])\n",
    "workspace[\"action\"]"
   ]
  }
 ],
 "metadata": {
  "kernelspec": {
   "display_name": "dac_env",
   "language": "python",
   "name": "python3"
  },
  "language_info": {
   "codemirror_mode": {
    "name": "ipython",
    "version": 3
   },
   "file_extension": ".py",
   "mimetype": "text/x-python",
   "name": "python",
   "nbconvert_exporter": "python",
   "pygments_lexer": "ipython3",
   "version": "3.9.19"
  },
  "orig_nbformat": 4,
  "vscode": {
   "interpreter": {
    "hash": "424e95bf5de250ac927228ed3185dfd2d42c497ade721b59c3c97ffc315799b7"
   }
  }
 },
 "nbformat": 4,
 "nbformat_minor": 2
}
