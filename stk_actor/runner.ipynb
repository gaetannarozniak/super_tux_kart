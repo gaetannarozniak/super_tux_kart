{
 "cells": [
  {
   "cell_type": "code",
   "execution_count": 6,
   "metadata": {},
   "outputs": [],
   "source": [
    "from pathlib import Path\n",
    "from pystk2_gymnasium import AgentSpec\n",
    "from functools import partial\n",
    "import torch\n",
    "import inspect\n",
    "from bbrl.agents.gymnasium import ParallelGymAgent, make_env\n",
    "from bbrl.agents import Agents, TemporalAgent\n",
    "from bbrl.workspace import Workspace\n",
    "import sys\n",
    "import os\n",
    "\n",
    "\n",
    "# Note the use of relative imports\n",
    "from actors import Actor, SamplingActor\n",
    "from pystk_actor import env_name, get_wrappers, player_name"
   ]
  },
  {
   "cell_type": "code",
   "execution_count": 9,
   "metadata": {},
   "outputs": [
    {
     "name": "stdout",
     "output_type": "stream",
     "text": [
      "..:: Antarctica Rendering Engine 2.0 ::..\n"
     ]
    }
   ],
   "source": [
    "env_name = \"supertuxkart/flattened_multidiscrete-v0\"\n",
    "# env_name = \"supertuxkart/full-v0\"\n",
    "\n",
    "# Setup the environment\n",
    "make_stkenv = partial(\n",
    "    make_env,\n",
    "    env_name,\n",
    "    wrappers=get_wrappers(),\n",
    "    render_mode=None,\n",
    "    autoreset=True,\n",
    "    agent=AgentSpec(use_ai=False, name=player_name),\n",
    ")\n",
    "\n",
    "env_agent = ParallelGymAgent(make_stkenv, 1)\n",
    "env = env_agent.envs[0]\n",
    "\n",
    "# (2) Learn\n",
    "\n",
    "actor = SamplingActor(env.action_space)\n",
    "temporal_agent = TemporalAgent(Agents(env_agent))\n",
    "\n",
    "workspace = Workspace()\n",
    "temporal_agent(workspace, t=0, n_steps=1)\n",
    "\n",
    "# (3) Save the actor sate\n",
    "mod_path = Path(inspect.getfile(get_wrappers)).parent\n",
    "torch.save(actor.state_dict(), mod_path / \"pystk_actor.pth\")\n"
   ]
  },
  {
   "cell_type": "code",
   "execution_count": 5,
   "metadata": {},
   "outputs": [
    {
     "name": "stdout",
     "output_type": "stream",
     "text": [
      "env/env_obs/discrete tensor([[[9, 3, 3, 1, 3, 0, 0, 3, 0]],\n",
      "\n",
      "        [[9, 3, 3, 1, 3, 0, 0, 3, 0]],\n",
      "\n",
      "        [[9, 3, 3, 1, 3, 0, 0, 3, 0]]])\n",
      "env/env_obs/continuous tensor([[[ 0.0000e+00,  0.0000e+00, -1.5895e+00,  1.9813e+00,  3.2745e+00,\n",
      "          -3.2745e+00,  0.0000e+00,  0.0000e+00,  1.0889e-08, -6.7976e-04,\n",
      "           7.1850e-01,  7.8506e-01, -1.1897e-02,  3.4608e+01,  6.2657e-01,\n",
      "          -8.4239e-03,  4.2681e+01,  7.1591e-01, -7.2453e-03,  5.3277e+01,\n",
      "           1.5298e+00, -1.1841e+00,  6.7663e+01,  1.5546e-01,  1.4594e-02,\n",
      "           7.2271e+01,  2.1313e+00,  3.1416e+00,  2.0495e+00,  2.1322e+00,\n",
      "           3.1416e+00,  4.0971e+00,  0.0000e+00,  0.0000e+00,  0.0000e+00,\n",
      "           0.0000e+00,  0.0000e+00,  0.0000e+00,  0.0000e+00,  0.0000e+00,\n",
      "           0.0000e+00,  4.2476e-01,  0.0000e+00,  1.2830e+01,  1.2830e+01,\n",
      "           2.0467e+01,  2.0467e+01,  2.5037e+01,  2.5037e+01,  2.8322e+01,\n",
      "           2.8322e+01,  3.1161e+01,  2.0714e-01,  2.1976e-02,  1.4700e+01,\n",
      "           2.4206e-01,  1.4596e-02,  2.2309e+01,  3.1491e-01,  1.2536e-02,\n",
      "           2.6521e+01,  3.7932e-01,  1.1625e-02,  2.9273e+01,  4.4658e-01,\n",
      "           1.1214e-02,  3.1253e+01,  1.1226e+00, -5.9466e-02,  3.6017e+00,\n",
      "           2.0714e-01,  2.1976e-02,  1.4700e+01,  2.4206e-01,  1.4596e-02,\n",
      "           2.2309e+01,  3.1491e-01,  1.2536e-02,  2.6521e+01,  3.7932e-01,\n",
      "           1.1625e-02,  2.9273e+01,  1.2975e+01,  1.0722e+01,  9.8227e+00,\n",
      "           9.1677e+00,  9.1226e+00,  0.0000e+00,  1.0000e+00, -2.7128e-08,\n",
      "           4.7281e-02,  2.8464e-09]],\n",
      "\n",
      "        [[ 0.0000e+00,  0.0000e+00, -1.5895e+00,  1.9813e+00,  3.2745e+00,\n",
      "          -3.2745e+00,  0.0000e+00,  0.0000e+00,  1.0889e-08, -6.7976e-04,\n",
      "           7.1850e-01,  7.8506e-01, -1.1897e-02,  3.4608e+01,  6.2657e-01,\n",
      "          -8.4239e-03,  4.2681e+01,  7.1591e-01, -7.2453e-03,  5.3277e+01,\n",
      "           1.5298e+00, -1.1841e+00,  6.7663e+01,  1.5546e-01,  1.4594e-02,\n",
      "           7.2271e+01,  2.1313e+00,  3.1416e+00,  2.0495e+00,  2.1322e+00,\n",
      "           3.1416e+00,  4.0971e+00,  0.0000e+00,  0.0000e+00,  0.0000e+00,\n",
      "           0.0000e+00,  0.0000e+00,  0.0000e+00,  0.0000e+00,  0.0000e+00,\n",
      "           0.0000e+00,  4.2476e-01,  0.0000e+00,  1.2830e+01,  1.2830e+01,\n",
      "           2.0467e+01,  2.0467e+01,  2.5037e+01,  2.5037e+01,  2.8322e+01,\n",
      "           2.8322e+01,  3.1161e+01,  2.0714e-01,  2.1976e-02,  1.4700e+01,\n",
      "           2.4206e-01,  1.4596e-02,  2.2309e+01,  3.1491e-01,  1.2536e-02,\n",
      "           2.6521e+01,  3.7932e-01,  1.1625e-02,  2.9273e+01,  4.4658e-01,\n",
      "           1.1214e-02,  3.1253e+01,  1.1226e+00, -5.9466e-02,  3.6017e+00,\n",
      "           2.0714e-01,  2.1976e-02,  1.4700e+01,  2.4206e-01,  1.4596e-02,\n",
      "           2.2309e+01,  3.1491e-01,  1.2536e-02,  2.6521e+01,  3.7932e-01,\n",
      "           1.1625e-02,  2.9273e+01,  1.2975e+01,  1.0722e+01,  9.8227e+00,\n",
      "           9.1677e+00,  9.1226e+00,  0.0000e+00,  1.0000e+00, -2.7008e-08,\n",
      "           4.7281e-02,  1.1653e-01]],\n",
      "\n",
      "        [[ 0.0000e+00,  0.0000e+00, -1.5895e+00,  1.9813e+00,  3.2745e+00,\n",
      "          -3.2745e+00,  0.0000e+00,  0.0000e+00,  1.0889e-08, -6.7976e-04,\n",
      "           7.1850e-01,  7.8506e-01, -1.1897e-02,  3.4608e+01,  6.2657e-01,\n",
      "          -8.4239e-03,  4.2681e+01,  7.1591e-01, -7.2453e-03,  5.3277e+01,\n",
      "           1.5298e+00, -1.1841e+00,  6.7663e+01,  1.5546e-01,  1.4594e-02,\n",
      "           7.2271e+01,  2.1313e+00,  3.1416e+00,  2.0495e+00,  2.1322e+00,\n",
      "           3.1416e+00,  4.0971e+00,  0.0000e+00,  0.0000e+00,  0.0000e+00,\n",
      "           0.0000e+00,  0.0000e+00,  0.0000e+00,  0.0000e+00,  0.0000e+00,\n",
      "           0.0000e+00,  4.2476e-01,  0.0000e+00,  1.2830e+01,  1.2830e+01,\n",
      "           2.0467e+01,  2.0467e+01,  2.5037e+01,  2.5037e+01,  2.8322e+01,\n",
      "           2.8322e+01,  3.1161e+01,  2.0714e-01,  2.1976e-02,  1.4700e+01,\n",
      "           2.4206e-01,  1.4596e-02,  2.2309e+01,  3.1491e-01,  1.2536e-02,\n",
      "           2.6521e+01,  3.7932e-01,  1.1625e-02,  2.9273e+01,  4.4658e-01,\n",
      "           1.1214e-02,  3.1253e+01,  1.1226e+00, -5.9466e-02,  3.6017e+00,\n",
      "           2.0714e-01,  2.1976e-02,  1.4700e+01,  2.4206e-01,  1.4596e-02,\n",
      "           2.2309e+01,  3.1491e-01,  1.2536e-02,  2.6521e+01,  3.7932e-01,\n",
      "           1.1625e-02,  2.9273e+01,  1.2975e+01,  1.0722e+01,  9.8227e+00,\n",
      "           9.1677e+00,  9.1226e+00,  0.0000e+00,  1.0000e+00, -1.3132e-02,\n",
      "           4.2785e-02, -2.3173e-01]]])\n",
      "env/terminated tensor([[False],\n",
      "        [False],\n",
      "        [False]])\n",
      "env/truncated tensor([[False],\n",
      "        [False],\n",
      "        [False]])\n",
      "env/done tensor([[False],\n",
      "        [False],\n",
      "        [False]])\n",
      "env/reward tensor([[0.0000],\n",
      "        [1.9000],\n",
      "        [1.9000]])\n",
      "env/cumulated_reward tensor([[0.0000],\n",
      "        [1.9000],\n",
      "        [3.8000]])\n",
      "env/timestep tensor([[0],\n",
      "        [1],\n",
      "        [2]])\n",
      "action tensor([[[4, 0, 0, 0, 0, 0, 3]],\n",
      "\n",
      "        [[0, 1, 0, 1, 0, 0, 4]],\n",
      "\n",
      "        [[2, 1, 1, 0, 1, 1, 1]]])\n"
     ]
    }
   ],
   "source": [
    "for key in workspace.keys():\n",
    "    print(key, workspace[key])"
   ]
  }
 ],
 "metadata": {
  "kernelspec": {
   "display_name": "dac_env",
   "language": "python",
   "name": "python3"
  },
  "language_info": {
   "codemirror_mode": {
    "name": "ipython",
    "version": 3
   },
   "file_extension": ".py",
   "mimetype": "text/x-python",
   "name": "python",
   "nbconvert_exporter": "python",
   "pygments_lexer": "ipython3",
   "version": "3.9.19"
  },
  "orig_nbformat": 4,
  "vscode": {
   "interpreter": {
    "hash": "424e95bf5de250ac927228ed3185dfd2d42c497ade721b59c3c97ffc315799b7"
   }
  }
 },
 "nbformat": 4,
 "nbformat_minor": 2
}
