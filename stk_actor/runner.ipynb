{
 "cells": [
  {
   "cell_type": "code",
   "execution_count": 6,
   "metadata": {},
   "outputs": [],
   "source": [
    "from pathlib import Path\n",
    "from pystk2_gymnasium import AgentSpec\n",
    "from functools import partial\n",
    "import torch\n",
    "import inspect\n",
    "from bbrl.agents.gymnasium import ParallelGymAgent, make_env\n",
    "from bbrl.agents import Agents, TemporalAgent\n",
    "from bbrl.workspace import Workspace\n",
    "from bbrl.agents import Agent\n",
    "import gymnasium as gym\n",
    "\n",
    "\n",
    "import sys\n",
    "import os\n",
    "\n",
    "\n",
    "# Note the use of relative imports\n",
    "from actors import Actor\n",
    "from pystk_actor import env_name, get_wrappers, player_name"
   ]
  },
  {
   "cell_type": "code",
   "execution_count": 42,
   "metadata": {},
   "outputs": [],
   "source": [
    "class SamplingActor(Agent):\n",
    "    \"\"\"Samples random actions\"\"\"\n",
    "\n",
    "    def __init__(self, action_space: gym.Space):\n",
    "        super().__init__()\n",
    "        self.action_space = action_space\n",
    "\n",
    "    def forward(self, t: int):\n",
    "        self.set((\"action\", t), torch.tensor([[4, 1, 0, 1, 1, 0, 6]]))#torch.LongTensor([self.action_space.sample()]))"
   ]
  },
  {
   "cell_type": "code",
   "execution_count": 43,
   "metadata": {},
   "outputs": [
    {
     "name": "stdout",
     "output_type": "stream",
     "text": [
      "..:: Antarctica Rendering Engine 2.0 ::..\n"
     ]
    }
   ],
   "source": [
    "env_name = \"supertuxkart/flattened_multidiscrete-v0\"\n",
    "# env_name = \"supertuxkart/full-v0\"\n",
    "\n",
    "# Setup the environment\n",
    "make_stkenv = partial(\n",
    "    make_env,\n",
    "    env_name,\n",
    "    wrappers=get_wrappers(),\n",
    "    render_mode=\"human\", # human for video, else None \n",
    "    autoreset=True,\n",
    "    agent=AgentSpec(use_ai=False, name=player_name), # use_ai=False for using the \"action\" line of the workspace\n",
    ")\n",
    "\n",
    "env_agent = ParallelGymAgent(make_stkenv, 1)\n",
    "env = env_agent.envs[0]\n",
    "\n",
    "# (2) Learn\n",
    "\n",
    "actor = SamplingActor(env.action_space)\n",
    "temporal_agent = TemporalAgent(Agents(env_agent, actor))\n",
    "\n",
    "workspace = Workspace()\n",
    "temporal_agent(workspace, t=0, n_steps=200)\n",
    "\n",
    "# (3) Save the actor state\n",
    "mod_path = Path(inspect.getfile(get_wrappers)).parent\n",
    "torch.save(actor.state_dict(), mod_path / \"pystk_actor.pth\")\n"
   ]
  },
  {
   "cell_type": "code",
   "execution_count": 59,
   "metadata": {},
   "outputs": [
    {
     "ename": "TypeError",
     "evalue": "step() missing 1 required positional argument: 'action'",
     "output_type": "error",
     "traceback": [
      "\u001b[0;31m---------------------------------------------------------------------------\u001b[0m",
      "\u001b[0;31mTypeError\u001b[0m                                 Traceback (most recent call last)",
      "Cell \u001b[0;32mIn[59], line 1\u001b[0m\n\u001b[0;32m----> 1\u001b[0m env\u001b[39m.\u001b[39;49mstep()\n",
      "\u001b[0;31mTypeError\u001b[0m: step() missing 1 required positional argument: 'action'"
     ]
    }
   ],
   "source": [
    "env.step()"
   ]
  },
  {
   "cell_type": "code",
   "execution_count": 39,
   "metadata": {},
   "outputs": [
    {
     "data": {
      "text/plain": [
       "tensor([[[4, 1, 0,  ..., 1, 0, 6]],\n",
       "\n",
       "        [[3, 1, 0,  ..., 1, 1, 3]],\n",
       "\n",
       "        [[1, 0, 1,  ..., 0, 1, 5]],\n",
       "\n",
       "        ...,\n",
       "\n",
       "        [[1, 1, 1,  ..., 0, 0, 1]],\n",
       "\n",
       "        [[1, 0, 0,  ..., 0, 1, 1]],\n",
       "\n",
       "        [[1, 1, 1,  ..., 1, 0, 4]]])"
      ]
     },
     "execution_count": 39,
     "metadata": {},
     "output_type": "execute_result"
    }
   ],
   "source": [
    "# for key in workspace.keys():\n",
    "#     print(key, workspace([key])\n",
    "workspace[\"action\"]"
   ]
  }
 ],
 "metadata": {
  "kernelspec": {
   "display_name": "dac_env",
   "language": "python",
   "name": "python3"
  },
  "language_info": {
   "codemirror_mode": {
    "name": "ipython",
    "version": 3
   },
   "file_extension": ".py",
   "mimetype": "text/x-python",
   "name": "python",
   "nbconvert_exporter": "python",
   "pygments_lexer": "ipython3",
   "version": "3.9.19"
  },
  "orig_nbformat": 4,
  "vscode": {
   "interpreter": {
    "hash": "424e95bf5de250ac927228ed3185dfd2d42c497ade721b59c3c97ffc315799b7"
   }
  }
 },
 "nbformat": 4,
 "nbformat_minor": 2
}
