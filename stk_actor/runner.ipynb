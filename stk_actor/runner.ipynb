{
 "cells": [
  {
   "cell_type": "code",
   "execution_count": 77,
   "metadata": {},
   "outputs": [],
   "source": [
    "from pathlib import Path\n",
    "from pystk2_gymnasium import AgentSpec\n",
    "from functools import partial\n",
    "import torch\n",
    "import inspect\n",
    "from bbrl.agents.gymnasium import ParallelGymAgent, make_env\n",
    "from bbrl.agents import Agents, TemporalAgent\n",
    "from bbrl.workspace import Workspace\n",
    "from bbrl.agents import Agent\n",
    "import gymnasium as gym\n",
    "import time\n",
    "\n",
    "import gym\n",
    "import numpy as np\n",
    "from sac_torch import Agent\n",
    "from utils import plot_learning_curve\n",
    "\n",
    "# Note the use of relative imports\n",
    "from actors import Actor\n",
    "from pystk_actor import env_name, get_wrappers, player_name"
   ]
  },
  {
   "cell_type": "code",
   "execution_count": 2,
   "metadata": {},
   "outputs": [],
   "source": [
    "class SamplingActor(Agent):\n",
    "    \"\"\"Samples random actions\"\"\"\n",
    "\n",
    "    def __init__(self, action_space: gym.Space):\n",
    "        super().__init__()\n",
    "        self.action_space = action_space\n",
    "\n",
    "    def forward(self, t: int):\n",
    "        self.set((\"action\", t), torch.tensor([[4, 1, 0, 1, 1, 0, 6]]))#torch.LongTensor([self.action_space.sample()]))"
   ]
  },
  {
   "cell_type": "code",
   "execution_count": 3,
   "metadata": {},
   "outputs": [],
   "source": [
    "class ContinuousObservationWrapper(gym.ObservationWrapper):\n",
    "    def __init__(self, env):\n",
    "        super().__init__(env)\n",
    "        self.observation_space = env.observation_space['continuous']\n",
    "    \n",
    "    def observation(self, observation):\n",
    "        return observation['continuous']"
   ]
  },
  {
   "cell_type": "code",
   "execution_count": 78,
   "metadata": {},
   "outputs": [
    {
     "name": "stdout",
     "output_type": "stream",
     "text": [
      "..:: Antarctica Rendering Engine 2.0 ::..\n",
      "..:: Antarctica Rendering Engine 2.0 ::..\n",
      "..:: Antarctica Rendering Engine 2.0 ::..\n",
      "..:: Antarctica Rendering Engine 2.0 ::..\n"
     ]
    }
   ],
   "source": [
    "# (1) Setup the environment\n",
    "\n",
    "env_name = \"supertuxkart/flattened_continuous_actions-v0\"\n",
    "n_envs = 4\n",
    "n_steps = 150\n",
    "\n",
    "def create_env():\n",
    "    env = make_env(\n",
    "        env_name,\n",
    "        wrappers=get_wrappers(),\n",
    "        render_mode=None, # human for video, else None \n",
    "        autoreset=True,\n",
    "        agent=AgentSpec(use_ai=False, name=player_name), # use_ai=False for using the \"action\" line of the workspace\n",
    "    )\n",
    "    return ContinuousObservationWrapper(env)\n",
    "\n",
    "envs = [create_env() for _ in range(n_envs)]"
   ]
  },
  {
   "cell_type": "code",
   "execution_count": 80,
   "metadata": {},
   "outputs": [
    {
     "name": "stdout",
     "output_type": "stream",
     "text": [
      "beginning of training\n",
      "t_choose = 0.33148837089538574 | t_step = 9.448336839675903 | t_learn = 4.844192743301392\n"
     ]
    }
   ],
   "source": [
    "agent = Agent(input_dims=envs[0].observation_space.shape, env=envs[0],\n",
    "                n_actions=envs[0].action_space.shape[0])\n",
    "\n",
    "best_score = envs[0].reward_range[0]\n",
    "score_history = []\n",
    "load_checkpoint = False\n",
    "\n",
    "if load_checkpoint:\n",
    "    agent.load_models()\n",
    "    envs[0].render(mode='human')\n",
    "\n",
    "observations = [envs[i].reset()[0] for i in range(n_envs)]\n",
    "scores = [0]*n_envs\n",
    "scores_history = [[] for _ in range(n_envs)]\n",
    "\n",
    "t_choose = 0\n",
    "t_step = 0\n",
    "t_learn = 0\n",
    "\n",
    "print(\"beginning of training\")\n",
    "\n",
    "for t in range(n_steps):\n",
    "    for i in range(n_envs):\n",
    "        t = time.time()\n",
    "        action = agent.choose_action(observations[i])\n",
    "        t_choose += time.time()-t\n",
    "\n",
    "        t = time.time()\n",
    "        observation_, reward, terminated, truncated, info = envs[i].step(action)\n",
    "        t_step += time.time() - t\n",
    "\n",
    "        done = terminated or truncated\n",
    "        scores[i] += reward\n",
    "        agent.remember(observations[i], action, reward, observation_, done)\n",
    "\n",
    "        t = time.time()\n",
    "        if not load_checkpoint:\n",
    "            agent.learn()\n",
    "        t_learn += time.time()-t\n",
    "\n",
    "        observations[i] = observation_\n",
    "        scores_history[i].append(scores[i])\n",
    "\n",
    "        # avg_score = np.mean(scores_history[i][-100:])\n",
    "        # if avg_score > best_score:\n",
    "        #     best_score = avg_score\n",
    "        #     if not load_checkpoint:\n",
    "        #         agent.save_models()\n",
    "\n",
    "        if t%50==49:\n",
    "            plot_learning_curve(list(range(t+1)), scores_history[i], \"plots/stk_scores.png\")\n",
    "        if t==n_steps-1:\n",
    "            envs[i].close()\n",
    "\n",
    "print(f\"{t_choose = } | {t_step = } | {t_learn = }\")"
   ]
  },
  {
   "cell_type": "code",
   "execution_count": null,
   "metadata": {},
   "outputs": [],
   "source": [
    "# (2) Learn\n",
    "\n",
    "actor = SamplingActor(env.action_space)\n",
    "temporal_agent = TemporalAgent(Agents(env_agent, actor))\n",
    "\n",
    "workspace = Workspace()\n",
    "temporal_agent(workspace, t=0, n_steps=200)\n",
    "\n",
    "# (3) Save the actor state\n",
    "mod_path = Path(inspect.getfile(get_wrappers)).parent\n",
    "torch.save(actor.state_dict(), mod_path / \"pystk_actor.pth\")"
   ]
  },
  {
   "cell_type": "code",
   "execution_count": 52,
   "metadata": {},
   "outputs": [
    {
     "data": {
      "text/plain": [
       "Box([  0.   0. -inf -inf -inf -inf -inf   0. -inf -inf -inf -inf -inf -inf\n",
       " -inf -inf -inf -inf -inf -inf -inf -inf -inf -inf -inf -inf -inf -inf\n",
       " -inf -inf -inf -inf -inf -inf -inf -inf -inf -inf -inf -inf -inf  -1.\n",
       "   0.   0.   0.   0.   0.   0.   0.   0.   0.   0. -inf -inf -inf -inf\n",
       " -inf -inf -inf -inf -inf -inf -inf -inf -inf -inf -inf -inf -inf -inf\n",
       " -inf -inf -inf -inf -inf -inf -inf -inf -inf -inf -inf -inf   0.   0.\n",
       "   0.   0.   0.   0.   0. -inf -inf -inf], [inf inf inf inf inf inf inf inf inf inf inf inf inf inf inf inf inf inf\n",
       " inf inf inf inf inf inf inf inf inf inf inf inf inf inf inf inf inf inf\n",
       " inf inf inf inf inf  1. inf inf inf inf inf inf inf inf inf inf inf inf\n",
       " inf inf inf inf inf inf inf inf inf inf inf inf inf inf inf inf inf inf\n",
       " inf inf inf inf inf inf inf inf inf inf inf inf inf inf inf inf inf inf\n",
       " inf inf], (92,), float32)"
      ]
     },
     "execution_count": 52,
     "metadata": {},
     "output_type": "execute_result"
    }
   ],
   "source": [
    "env.observation_space['continuous']"
   ]
  },
  {
   "cell_type": "code",
   "execution_count": null,
   "metadata": {},
   "outputs": [],
   "source": []
  },
  {
   "cell_type": "code",
   "execution_count": 39,
   "metadata": {},
   "outputs": [
    {
     "data": {
      "text/plain": [
       "tensor([[[4, 1, 0,  ..., 1, 0, 6]],\n",
       "\n",
       "        [[3, 1, 0,  ..., 1, 1, 3]],\n",
       "\n",
       "        [[1, 0, 1,  ..., 0, 1, 5]],\n",
       "\n",
       "        ...,\n",
       "\n",
       "        [[1, 1, 1,  ..., 0, 0, 1]],\n",
       "\n",
       "        [[1, 0, 0,  ..., 0, 1, 1]],\n",
       "\n",
       "        [[1, 1, 1,  ..., 1, 0, 4]]])"
      ]
     },
     "execution_count": 39,
     "metadata": {},
     "output_type": "execute_result"
    }
   ],
   "source": [
    "# for key in workspace.keys():\n",
    "#     print(key, workspace([key])\n",
    "workspace[\"action\"]"
   ]
  }
 ],
 "metadata": {
  "kernelspec": {
   "display_name": "dac_env",
   "language": "python",
   "name": "python3"
  },
  "language_info": {
   "codemirror_mode": {
    "name": "ipython",
    "version": 3
   },
   "file_extension": ".py",
   "mimetype": "text/x-python",
   "name": "python",
   "nbconvert_exporter": "python",
   "pygments_lexer": "ipython3",
   "version": "3.9.19"
  },
  "orig_nbformat": 4,
  "vscode": {
   "interpreter": {
    "hash": "424e95bf5de250ac927228ed3185dfd2d42c497ade721b59c3c97ffc315799b7"
   }
  }
 },
 "nbformat": 4,
 "nbformat_minor": 2
}
