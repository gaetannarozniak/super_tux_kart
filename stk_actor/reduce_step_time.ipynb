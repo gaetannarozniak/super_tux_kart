{
 "cells": [
  {
   "cell_type": "code",
   "execution_count": 19,
   "metadata": {},
   "outputs": [],
   "source": [
    "from pathlib import Path\n",
    "from pystk2_gymnasium import AgentSpec\n",
    "from functools import partial\n",
    "import torch\n",
    "import inspect\n",
    "import gymnasium as gym\n",
    "from bbrl.agents.gymnasium import make_env\n",
    "\n",
    "import time\n",
    "\n",
    "import gym\n",
    "import numpy as np\n"
   ]
  },
  {
   "cell_type": "code",
   "execution_count": 20,
   "metadata": {},
   "outputs": [],
   "source": [
    "class ContinuousObservationWrapper(gym.ObservationWrapper):\n",
    "    def __init__(self, env):\n",
    "        super().__init__(env)\n",
    "        self.observation_space = env.observation_space['continuous']\n",
    "    \n",
    "    def observation(self, observation):\n",
    "        return observation['continuous']"
   ]
  },
  {
   "cell_type": "code",
   "execution_count": 29,
   "metadata": {},
   "outputs": [],
   "source": [
    "# (1) Setup the environment\n",
    "\n",
    "env_name = \"supertuxkart/flattened_continuous_actions-v0\"\n",
    "n_envs = 10\n",
    "n_steps = 40\n",
    "\n",
    "def create_env():\n",
    "    env = make_env(\n",
    "        env_name,\n",
    "        wrappers=[],\n",
    "        render_mode=None, # human for video, else None \n",
    "        autoreset=True,\n",
    "        agent=AgentSpec(use_ai=False, name=\"player\"), # use_ai=False for using the \"action\" line of the workspace\n",
    "    )\n",
    "    return ContinuousObservationWrapper(env)\n",
    "\n",
    "envs = [create_env() for _ in range(n_envs)]\n"
   ]
  },
  {
   "cell_type": "code",
   "execution_count": 30,
   "metadata": {},
   "outputs": [
    {
     "name": "stdout",
     "output_type": "stream",
     "text": [
      "..:: Antarctica Rendering Engine 2.0 ::..\n",
      "..:: Antarctica Rendering Engine 2.0 ::..\n",
      "..:: Antarctica Rendering Engine 2.0 ::..\n",
      "..:: Antarctica Rendering Engine 2.0 ::..\n",
      "..:: Antarctica Rendering Engine 2.0 ::..\n",
      "..:: Antarctica Rendering Engine 2.0 ::..\n",
      "..:: Antarctica Rendering Engine 2.0 ::..\n",
      "..:: Antarctica Rendering Engine 2.0 ::..\n",
      "..:: Antarctica Rendering Engine 2.0 ::..\n",
      "..:: Antarctica Rendering Engine 2.0 ::..\n",
      "total step time : 6.458303928375244 | average step time : 16.1ms\n"
     ]
    }
   ],
   "source": [
    "t_step = 0\n",
    "\n",
    "for k in range(n_steps):\n",
    "    for i in range(n_envs):\n",
    "        if k==0:\n",
    "            envs[i].reset()\n",
    "        t = time.time()\n",
    "        envs[i].step(envs[i].action_space.sample())\n",
    "        t_step+=time.time()-t\n",
    "\n",
    "print(f\"total step time : {t_step} | average step time : {1000*t_step/n_steps/n_envs:.1f}ms\")"
   ]
  },
  {
   "cell_type": "code",
   "execution_count": 31,
   "metadata": {},
   "outputs": [
    {
     "name": "stdout",
     "output_type": "stream",
     "text": [
      "..:: Antarctica Rendering Engine 2.0 ::..\n",
      "..:: Antarctica Rendering Engine 2.0 ::..\n",
      "..:: Antarctica Rendering Engine 2.0 ::..\n",
      "..:: Antarctica Rendering Engine 2.0 ::..\n",
      "..:: Antarctica Rendering Engine 2.0 ::..\n",
      "..:: Antarctica Rendering Engine 2.0 ::..\n",
      "..:: Antarctica Rendering Engine 2.0 ::..\n",
      "..:: Antarctica Rendering Engine 2.0 ::..\n",
      "..:: Antarctica Rendering Engine 2.0 ::..\n",
      "..:: Antarctica Rendering Engine 2.0 ::..\n",
      "Step 1 completed in 2.58 seconds\n",
      "Step 2 completed in 1.45 seconds\n",
      "Step 3 completed in 1.45 seconds\n",
      "Step 4 completed in 1.40 seconds\n",
      "Step 5 completed in 1.61 seconds\n",
      "Step 6 completed in 1.41 seconds\n",
      "Step 7 completed in 1.63 seconds\n",
      "Step 8 completed in 1.32 seconds\n",
      "Step 9 completed in 1.49 seconds\n",
      "Step 10 completed in 1.43 seconds\n",
      "Step 11 completed in 1.44 seconds\n",
      "Step 12 completed in 1.50 seconds\n",
      "Step 13 completed in 1.43 seconds\n",
      "Step 14 completed in 1.39 seconds\n",
      "Step 15 completed in 1.46 seconds\n",
      "Step 16 completed in 1.42 seconds\n",
      "Step 17 completed in 1.45 seconds\n",
      "Step 18 completed in 1.33 seconds\n",
      "Step 19 completed in 1.47 seconds\n",
      "Step 20 completed in 1.42 seconds\n",
      "Step 21 completed in 1.43 seconds\n",
      "Step 22 completed in 1.38 seconds\n",
      "Step 23 completed in 1.45 seconds\n",
      "Step 24 completed in 1.28 seconds\n",
      "Step 25 completed in 1.51 seconds\n",
      "Step 26 completed in 1.38 seconds\n",
      "Step 27 completed in 1.59 seconds\n",
      "Step 28 completed in 1.50 seconds\n",
      "Step 29 completed in 1.44 seconds\n",
      "Step 30 completed in 1.51 seconds\n",
      "Step 31 completed in 1.53 seconds\n",
      "Step 32 completed in 1.48 seconds\n",
      "Step 33 completed in 1.46 seconds\n",
      "Step 34 completed in 1.44 seconds\n",
      "Step 35 completed in 1.41 seconds\n",
      "Step 36 completed in 1.47 seconds\n",
      "Step 37 completed in 1.48 seconds\n",
      "Step 38 completed in 1.33 seconds\n",
      "Step 39 completed in 1.47 seconds\n",
      "Step 40 completed in 1.44 seconds\n"
     ]
    }
   ],
   "source": [
    "from concurrent.futures import ThreadPoolExecutor\n",
    "import time\n",
    "\n",
    "def step_env(env):\n",
    "    t = time.time()\n",
    "    env.step(env.action_space.sample())\n",
    "    return time.time() - t\n",
    "\n",
    "n_steps = 40\n",
    "n_envs = 10\n",
    "envs = [create_env() for _ in range(n_envs)]  # Replace `create_env` with your environment creation function\n",
    "\n",
    "with ThreadPoolExecutor(max_workers=n_envs) as executor:\n",
    "    for k in range(n_steps):\n",
    "        if k == 0:\n",
    "            for env in envs:\n",
    "                env.reset()\n",
    "\n",
    "        t_start = time.time()\n",
    "        step_times = list(executor.map(step_env, envs))\n",
    "        t_step = sum(step_times)\n",
    "\n",
    "        print(f\"Step {k+1} completed in {t_step:.2f} seconds\")\n"
   ]
  }
 ],
 "metadata": {
  "kernelspec": {
   "display_name": "dac_env",
   "language": "python",
   "name": "python3"
  },
  "language_info": {
   "codemirror_mode": {
    "name": "ipython",
    "version": 3
   },
   "file_extension": ".py",
   "mimetype": "text/x-python",
   "name": "python",
   "nbconvert_exporter": "python",
   "pygments_lexer": "ipython3",
   "version": "3.9.19"
  },
  "orig_nbformat": 4,
  "vscode": {
   "interpreter": {
    "hash": "424e95bf5de250ac927228ed3185dfd2d42c497ade721b59c3c97ffc315799b7"
   }
  }
 },
 "nbformat": 4,
 "nbformat_minor": 2
}
